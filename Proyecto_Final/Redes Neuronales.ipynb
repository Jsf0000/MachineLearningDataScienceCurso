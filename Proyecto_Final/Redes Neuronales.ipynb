{
 "cells": [
  {
   "cell_type": "markdown",
   "metadata": {},
   "source": [
    "# Portada\n",
    "\n",
    "## Estudiantes:\n",
    "\n",
    "    Jason Solano \n",
    "\n",
    "    Percy herrara\n",
    "## Curso\n",
    "    \n",
    "    Machine Learning\n",
    " \n",
    "## Trabajo\n",
    "    Projecto Final "
   ]
  },
  {
   "cell_type": "markdown",
   "metadata": {},
   "source": [
    "## Librerías"
   ]
  },
  {
   "cell_type": "code",
   "execution_count": 6,
   "metadata": {},
   "outputs": [
    {
     "name": "stderr",
     "output_type": "stream",
     "text": [
      "Using TensorFlow backend.\n"
     ]
    }
   ],
   "source": [
    "import pandas as pd\n",
    "from sklearn import metrics\n",
    "from sklearn.model_selection import train_test_split\n",
    "from sklearn.utils import shuffle\n",
    "import numpy as np\n",
    "%matplotlib inline \n",
    "import matplotlib.pyplot as plt\n",
    "from time import time\n",
    "import keras\n",
    "from keras.models import Sequential\n",
    "from keras.layers.core import Dense, Dropout, Activation,Flatten\n",
    "from keras.optimizers import SGD\n",
    "from keras.utils import np_utils\n",
    "import timeit"
   ]
  },
  {
   "cell_type": "markdown",
   "metadata": {},
   "source": [
    "## Se cargan  los datos"
   ]
  },
  {
   "cell_type": "code",
   "execution_count": 3,
   "metadata": {},
   "outputs": [
    {
     "data": {
      "text/html": [
       "<div>\n",
       "<style scoped>\n",
       "    .dataframe tbody tr th:only-of-type {\n",
       "        vertical-align: middle;\n",
       "    }\n",
       "\n",
       "    .dataframe tbody tr th {\n",
       "        vertical-align: top;\n",
       "    }\n",
       "\n",
       "    .dataframe thead th {\n",
       "        text-align: right;\n",
       "    }\n",
       "</style>\n",
       "<table border=\"1\" class=\"dataframe\">\n",
       "  <thead>\n",
       "    <tr style=\"text-align: right;\">\n",
       "      <th></th>\n",
       "      <th>approval_amount</th>\n",
       "      <th>redeem_ts</th>\n",
       "      <th>contacted</th>\n",
       "      <th>email_contacted_ts</th>\n",
       "      <th>sms_contacted_ts</th>\n",
       "      <th>zip_code</th>\n",
       "      <th>rent_or_own</th>\n",
       "      <th>months_at_current_residence</th>\n",
       "      <th>years_at_current_residence</th>\n",
       "      <th>direct_deposit</th>\n",
       "      <th>...</th>\n",
       "      <th>source_INTERNET</th>\n",
       "      <th>source_KIOSK</th>\n",
       "      <th>source_MERCHANT</th>\n",
       "      <th>source_REMARKET</th>\n",
       "      <th>source_SHORT_CODE</th>\n",
       "      <th>source_SMS</th>\n",
       "      <th>source_SNAP_FINANCE_COM</th>\n",
       "      <th>initial_decision_APPROVED</th>\n",
       "      <th>initial_decision_APPROVED_WITH_CONDITIONS</th>\n",
       "      <th>initial_decision_DENIED</th>\n",
       "    </tr>\n",
       "  </thead>\n",
       "  <tbody>\n",
       "    <tr>\n",
       "      <th>3364</th>\n",
       "      <td>0.080748</td>\n",
       "      <td>0.0</td>\n",
       "      <td>0.0</td>\n",
       "      <td>1.0</td>\n",
       "      <td>0.0</td>\n",
       "      <td>0.243222</td>\n",
       "      <td>1.0</td>\n",
       "      <td>0.000000</td>\n",
       "      <td>0.125000</td>\n",
       "      <td>1.0</td>\n",
       "      <td>...</td>\n",
       "      <td>0.0</td>\n",
       "      <td>0.0</td>\n",
       "      <td>1.0</td>\n",
       "      <td>0.0</td>\n",
       "      <td>0.0</td>\n",
       "      <td>0.0</td>\n",
       "      <td>0.0</td>\n",
       "      <td>1.0</td>\n",
       "      <td>0.0</td>\n",
       "      <td>0.0</td>\n",
       "    </tr>\n",
       "    <tr>\n",
       "      <th>2120</th>\n",
       "      <td>0.071776</td>\n",
       "      <td>1.0</td>\n",
       "      <td>0.0</td>\n",
       "      <td>1.0</td>\n",
       "      <td>1.0</td>\n",
       "      <td>0.243207</td>\n",
       "      <td>1.0</td>\n",
       "      <td>0.545455</td>\n",
       "      <td>0.020833</td>\n",
       "      <td>1.0</td>\n",
       "      <td>...</td>\n",
       "      <td>0.0</td>\n",
       "      <td>0.0</td>\n",
       "      <td>1.0</td>\n",
       "      <td>0.0</td>\n",
       "      <td>0.0</td>\n",
       "      <td>0.0</td>\n",
       "      <td>0.0</td>\n",
       "      <td>1.0</td>\n",
       "      <td>0.0</td>\n",
       "      <td>0.0</td>\n",
       "    </tr>\n",
       "    <tr>\n",
       "      <th>1295</th>\n",
       "      <td>0.265421</td>\n",
       "      <td>1.0</td>\n",
       "      <td>0.0</td>\n",
       "      <td>1.0</td>\n",
       "      <td>1.0</td>\n",
       "      <td>0.098266</td>\n",
       "      <td>0.0</td>\n",
       "      <td>0.090909</td>\n",
       "      <td>0.000000</td>\n",
       "      <td>1.0</td>\n",
       "      <td>...</td>\n",
       "      <td>0.0</td>\n",
       "      <td>0.0</td>\n",
       "      <td>1.0</td>\n",
       "      <td>0.0</td>\n",
       "      <td>0.0</td>\n",
       "      <td>0.0</td>\n",
       "      <td>0.0</td>\n",
       "      <td>1.0</td>\n",
       "      <td>0.0</td>\n",
       "      <td>0.0</td>\n",
       "    </tr>\n",
       "    <tr>\n",
       "      <th>2966</th>\n",
       "      <td>0.185421</td>\n",
       "      <td>0.0</td>\n",
       "      <td>0.0</td>\n",
       "      <td>1.0</td>\n",
       "      <td>0.0</td>\n",
       "      <td>0.232196</td>\n",
       "      <td>0.0</td>\n",
       "      <td>0.000000</td>\n",
       "      <td>0.020833</td>\n",
       "      <td>1.0</td>\n",
       "      <td>...</td>\n",
       "      <td>1.0</td>\n",
       "      <td>0.0</td>\n",
       "      <td>0.0</td>\n",
       "      <td>0.0</td>\n",
       "      <td>0.0</td>\n",
       "      <td>0.0</td>\n",
       "      <td>0.0</td>\n",
       "      <td>1.0</td>\n",
       "      <td>0.0</td>\n",
       "      <td>0.0</td>\n",
       "    </tr>\n",
       "    <tr>\n",
       "      <th>216</th>\n",
       "      <td>0.429159</td>\n",
       "      <td>1.0</td>\n",
       "      <td>0.0</td>\n",
       "      <td>1.0</td>\n",
       "      <td>0.0</td>\n",
       "      <td>0.305831</td>\n",
       "      <td>1.0</td>\n",
       "      <td>0.090909</td>\n",
       "      <td>0.041667</td>\n",
       "      <td>1.0</td>\n",
       "      <td>...</td>\n",
       "      <td>0.0</td>\n",
       "      <td>0.0</td>\n",
       "      <td>1.0</td>\n",
       "      <td>0.0</td>\n",
       "      <td>0.0</td>\n",
       "      <td>0.0</td>\n",
       "      <td>0.0</td>\n",
       "      <td>1.0</td>\n",
       "      <td>0.0</td>\n",
       "      <td>0.0</td>\n",
       "    </tr>\n",
       "  </tbody>\n",
       "</table>\n",
       "<p>5 rows × 1593 columns</p>\n",
       "</div>"
      ],
      "text/plain": [
       "      approval_amount  redeem_ts  contacted  email_contacted_ts  \\\n",
       "3364         0.080748        0.0        0.0                 1.0   \n",
       "2120         0.071776        1.0        0.0                 1.0   \n",
       "1295         0.265421        1.0        0.0                 1.0   \n",
       "2966         0.185421        0.0        0.0                 1.0   \n",
       "216          0.429159        1.0        0.0                 1.0   \n",
       "\n",
       "      sms_contacted_ts  zip_code  rent_or_own  months_at_current_residence  \\\n",
       "3364               0.0  0.243222          1.0                     0.000000   \n",
       "2120               1.0  0.243207          1.0                     0.545455   \n",
       "1295               1.0  0.098266          0.0                     0.090909   \n",
       "2966               0.0  0.232196          0.0                     0.000000   \n",
       "216                0.0  0.305831          1.0                     0.090909   \n",
       "\n",
       "      years_at_current_residence  direct_deposit           ...             \\\n",
       "3364                    0.125000             1.0           ...              \n",
       "2120                    0.020833             1.0           ...              \n",
       "1295                    0.000000             1.0           ...              \n",
       "2966                    0.020833             1.0           ...              \n",
       "216                     0.041667             1.0           ...              \n",
       "\n",
       "      source_INTERNET  source_KIOSK  source_MERCHANT  source_REMARKET  \\\n",
       "3364              0.0           0.0              1.0              0.0   \n",
       "2120              0.0           0.0              1.0              0.0   \n",
       "1295              0.0           0.0              1.0              0.0   \n",
       "2966              1.0           0.0              0.0              0.0   \n",
       "216               0.0           0.0              1.0              0.0   \n",
       "\n",
       "      source_SHORT_CODE  source_SMS  source_SNAP_FINANCE_COM  \\\n",
       "3364                0.0         0.0                      0.0   \n",
       "2120                0.0         0.0                      0.0   \n",
       "1295                0.0         0.0                      0.0   \n",
       "2966                0.0         0.0                      0.0   \n",
       "216                 0.0         0.0                      0.0   \n",
       "\n",
       "      initial_decision_APPROVED  initial_decision_APPROVED_WITH_CONDITIONS  \\\n",
       "3364                        1.0                                        0.0   \n",
       "2120                        1.0                                        0.0   \n",
       "1295                        1.0                                        0.0   \n",
       "2966                        1.0                                        0.0   \n",
       "216                         1.0                                        0.0   \n",
       "\n",
       "      initial_decision_DENIED  \n",
       "3364                      0.0  \n",
       "2120                      0.0  \n",
       "1295                      0.0  \n",
       "2966                      0.0  \n",
       "216                       0.0  \n",
       "\n",
       "[5 rows x 1593 columns]"
      ]
     },
     "execution_count": 3,
     "metadata": {},
     "output_type": "execute_result"
    }
   ],
   "source": [
    "df_normalized = pd.read_csv('df_normalized.csv')\n",
    "df_normalized = shuffle(df_normalized)\n",
    "df_normalized.head()"
   ]
  },
  {
   "cell_type": "markdown",
   "metadata": {},
   "source": [
    "## Se separan los datos de entrenamiento y los labels"
   ]
  },
  {
   "cell_type": "code",
   "execution_count": 4,
   "metadata": {},
   "outputs": [],
   "source": [
    "labels = df_normalized['redeem_ts']\n",
    "features = df_normalized.drop(columns=['redeem_ts'])"
   ]
  },
  {
   "cell_type": "code",
   "execution_count": 5,
   "metadata": {},
   "outputs": [
    {
     "name": "stdout",
     "output_type": "stream",
     "text": [
      "('x_train shape:', (3373, 1592))\n",
      "(3373, 'train samples')\n",
      "(1817, 'test samples')\n"
     ]
    }
   ],
   "source": [
    "X_train, X_test, y_train, y_test = train_test_split(features,labels,test_size=0.35,random_state=13)\n",
    "\n",
    "# print shape of training set\n",
    "print('x_train shape:', X_train.shape)\n",
    "\n",
    "# print number of training, validation, and test images\n",
    "print(X_train.shape[0], 'train samples')\n",
    "print(X_test.shape[0], 'test samples')"
   ]
  },
  {
   "cell_type": "markdown",
   "metadata": {},
   "source": [
    "## Realizamos la prueba con la red neuronal"
   ]
  },
  {
   "cell_type": "code",
   "execution_count": 21,
   "metadata": {},
   "outputs": [
    {
     "name": "stdout",
     "output_type": "stream",
     "text": [
      "_________________________________________________________________\n",
      "Layer (type)                 Output Shape              Param #   \n",
      "=================================================================\n",
      "dense_37 (Dense)             (None, 16)                25488     \n",
      "_________________________________________________________________\n",
      "activation_37 (Activation)   (None, 16)                0         \n",
      "_________________________________________________________________\n",
      "dropout_30 (Dropout)         (None, 16)                0         \n",
      "_________________________________________________________________\n",
      "dense_38 (Dense)             (None, 8)                 136       \n",
      "_________________________________________________________________\n",
      "activation_38 (Activation)   (None, 8)                 0         \n",
      "_________________________________________________________________\n",
      "dropout_31 (Dropout)         (None, 8)                 0         \n",
      "_________________________________________________________________\n",
      "dense_39 (Dense)             (None, 1)                 9         \n",
      "_________________________________________________________________\n",
      "activation_39 (Activation)   (None, 1)                 0         \n",
      "=================================================================\n",
      "Total params: 25,633\n",
      "Trainable params: 25,633\n",
      "Non-trainable params: 0\n",
      "_________________________________________________________________\n"
     ]
    }
   ],
   "source": [
    "# Building the model\n",
    "\n",
    "model = Sequential()\n",
    "\n",
    "model.add(Dense(16, input_dim=1592))\n",
    "model.add(Activation('relu'))\n",
    "model.add(Dropout(.3)) # now using dropout\n",
    "\n",
    "model.add(Dense(8))\n",
    "model.add(Activation('tanh'))\n",
    "model.add(Dropout(.2)) # now using dropout\n",
    "\n",
    "\n",
    "model.add(Dense(1))\n",
    "model.add(Activation('sigmoid'))\n",
    "\n",
    "# Compiling the model\n",
    "model.compile(loss = 'categorical_hinge', optimizer='Adamax', metrics=['accuracy'])\n",
    "\n",
    "model.summary()"
   ]
  },
  {
   "cell_type": "markdown",
   "metadata": {},
   "source": [
    "## Se realiza el entrenamiento de la red neuronal"
   ]
  },
  {
   "cell_type": "code",
   "execution_count": 22,
   "metadata": {},
   "outputs": [
    {
     "name": "stdout",
     "output_type": "stream",
     "text": [
      "3373/3373 [==============================] - 1s 179us/step\n",
      "('\\n Training Accuracy:', 0.91639490068188556)\n",
      "1817/1817 [==============================] - 0s 72us/step\n",
      "('\\n Testing Accuracy:', 0.69785360464632473)\n",
      "('Time: ', 117.74674487113953)\n"
     ]
    }
   ],
   "source": [
    "start = timeit.default_timer()\n",
    "\n",
    "model.fit(X_train, y_train, epochs=600, batch_size=200, verbose=0)\n",
    "\n",
    "stop = timeit.default_timer()\n",
    "\n",
    "score = model.evaluate(X_train, y_train)\n",
    "print(\"\\n Training Accuracy:\", score[1])\n",
    "score = model.evaluate(X_test, y_test)\n",
    "print(\"\\n Testing Accuracy:\", score[1])\n",
    "\n",
    "print('Time: ', stop - start)"
   ]
  },
  {
   "cell_type": "markdown",
   "metadata": {},
   "source": [
    "## Conclusión de pruebas"
   ]
  },
  {
   "cell_type": "markdown",
   "metadata": {},
   "source": [
    "La realización de una investigación nos dio a entender que los algortimos que utilizan pesos no son tan efectivos con datos categoricos,\n",
    "sin embargo se realiza la prueba con una red neuronal, en la cual de acorde a las pruebas que se realizo se observe un overfitting,\n",
    "la red presentada en la sección de código anterior es la mejor, ya que es pequeña y presenta un accuracy en testing y tranning muy similar a otras redes mas grandes, se adjuntas las pruebas principales que se realizaron."
   ]
  },
  {
   "cell_type": "markdown",
   "metadata": {},
   "source": [
    "## Pruebas que se realizaron"
   ]
  },
  {
   "cell_type": "markdown",
   "metadata": {},
   "source": [
    "### Prueba 1 \n",
    "\n",
    "Se genera una red con las siguientes layer:\n",
    "    \n",
    "1 - 128 neuronas, función de activación: relu, drop-out: 0.3 \n",
    "        \n",
    "2 - 64 neuronas, función de activación: relu, drop-out: 0.2\n",
    "        \n",
    "3 - 32 neuronas, función de activación: relu, drop-out: 0.1\n",
    "\n",
    "4 - 16 neuronas, función de activación: tanh, drop-out: 0.1\n",
    "\n",
    "5 - 8 neuronas, función de activación: relu, drop-out: 0.1\n",
    "\n",
    "6 - salida 2 neuronas, función de activación: sigmoid\n",
    "  \n",
    "#### Compiling the model\n",
    "model.compile(loss = 'mean_squared_error', optimizer='Adamax', metrics=['accuracy'])\n",
    "    \n",
    "    \n",
    "Salidas: \n",
    "    \n",
    "('\\n Training Accuracy:', 0.94752445893863035)\n",
    "('\\n Testing Accuracy:', 0.70170610913485043)"
   ]
  },
  {
   "cell_type": "markdown",
   "metadata": {},
   "source": [
    "### Prueba 2\n",
    "\n",
    "Se genera una red con las siguientes layer:\n",
    "    \n",
    "1 - 32 neuronas, función de activación: relu, drop-out: 0.3 \n",
    "        \n",
    "2 - 32 neuronas, función de activación: relu, drop-out: 0.2\n",
    "        \n",
    "3 - 16 neuronas, función de activación: relu, drop-out: 0.1\n",
    "\n",
    "4 - 8 neuronas, función de activación: tanh, drop-out: 0.1\n",
    "\n",
    "5 - 4 neuronas, función de activación: relu, drop-out: 0.1\n",
    "\n",
    "6 - salida 2 neuronas, función de activación: sigmoid\n",
    "  \n",
    "#### Compiling the model\n",
    "model.compile(loss = 'hinge', optimizer='Adam', metrics=['accuracy'])\n",
    "    \n",
    "    \n",
    "Salidas: \n",
    "    \n",
    "('\\n Training Accuracy:', 0.94129854730495244)\n",
    "('\\n Testing Accuracy:', 0.69179966988377206)"
   ]
  },
  {
   "cell_type": "markdown",
   "metadata": {},
   "source": [
    "### Prueba 3\n",
    "\n",
    "Se genera una red con las siguientes layer:\n",
    "    \n",
    "1 - 32 neuronas, función de activación: relu, drop-out: 0.3 \n",
    "        \n",
    "2 - 16 neuronas, función de activación: tanh, drop-out: 0.2\n",
    "        \n",
    "3 - 8 neuronas, función de activación: relu, drop-out: 0.1\n",
    "\n",
    "4 - 4 neuronas, función de activación: tanh, drop-out: 0.1\n",
    "\n",
    "5 - 2 neuronas, función de activación: relu, drop-out: 0.1\n",
    "\n",
    "6 - salida 2 neuronas, función de activación: sigmoid\n",
    "  \n",
    "#### Compiling the model\n",
    "model.compile(loss = 'categorical_hinge', optimizer='Adam', metrics=['accuracy'])\n",
    "    \n",
    "    \n",
    "Salidas: \n",
    "    \n",
    "('\\n Training Accuracy:', 0.92884672398458346)\n",
    "('\\n Testing Accuracy:', 0.69179966988377206)"
   ]
  },
  {
   "cell_type": "markdown",
   "metadata": {},
   "source": [
    "### Prueba 4\n",
    "\n",
    "Se genera una red con las siguientes layer:\n",
    "    \n",
    "1 - 32 neuronas, función de activación: relu, drop-out: 0.3 \n",
    "        \n",
    "2 - 4 neuronas, función de activación: tanh, drop-out: 0.1\n",
    "        \n",
    "3 - 2 neuronas, función de activación: relu, drop-out: 0.1\n",
    "\n",
    "6 - salida 2 neuronas, función de activación: sigmoid\n",
    "  \n",
    "#### Compiling the model\n",
    "model.compile(loss = 'categorical_crossentropy', optimizer='Adamax', metrics=['accuracy'])\n",
    "    \n",
    "    \n",
    "Salidas: \n",
    "    \n",
    "('\\n Training Accuracy:', 0.93121849985176397)\n",
    "('\\n Testing Accuracy:', 0.68684644999580191)"
   ]
  },
  {
   "cell_type": "markdown",
   "metadata": {},
   "source": [
    "### Prueba 5\n",
    "\n",
    "Se genera una red con las siguientes layer:\n",
    "    \n",
    "1 - 32 neuronas, función de activación: relu, drop-out: 0.3 \n",
    "        \n",
    "2 - 4 neuronas, función de activación: tanh, drop-out: 0.1\n",
    "        \n",
    "3 - 2 neuronas, función de activación: relu, drop-out: 0.1\n",
    "\n",
    "6 - salida 2 neuronas, función de activación: sigmoid\n",
    "  \n",
    "#### Compiling the model\n",
    "model.compile(loss = 'categorical_hinge', optimizer='Adamax', metrics=['accuracy'])\n",
    "    \n",
    "    \n",
    "Salidas: \n",
    "    \n",
    "('\\n Training Accuracy:', 0.93121849985176397)\n",
    "('\\n Testing Accuracy:', 0.68684644999580191)"
   ]
  },
  {
   "cell_type": "code",
   "execution_count": null,
   "metadata": {},
   "outputs": [],
   "source": []
  }
 ],
 "metadata": {
  "kernelspec": {
   "display_name": "Python 2",
   "language": "python",
   "name": "python2"
  },
  "language_info": {
   "codemirror_mode": {
    "name": "ipython",
    "version": 2
   },
   "file_extension": ".py",
   "mimetype": "text/x-python",
   "name": "python",
   "nbconvert_exporter": "python",
   "pygments_lexer": "ipython2",
   "version": "2.7.15"
  }
 },
 "nbformat": 4,
 "nbformat_minor": 2
}
