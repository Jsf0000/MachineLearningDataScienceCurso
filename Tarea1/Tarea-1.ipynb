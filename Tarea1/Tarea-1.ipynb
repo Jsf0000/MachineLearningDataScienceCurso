{
 "cells": [
  {
   "cell_type": "markdown",
   "metadata": {},
   "source": [
    "# Jason Solano\n",
    "# Tarea 1 - Machine Learning"
   ]
  },
  {
   "cell_type": "markdown",
   "metadata": {},
   "source": [
    "Libraries "
   ]
  },
  {
   "cell_type": "code",
   "execution_count": 13,
   "metadata": {},
   "outputs": [],
   "source": [
    "import numpy as np\n",
    "from matplotlib import pyplot\n",
    "import sklearn\n",
    "import pandas as pd\n",
    "from pandas import Series\n",
    "from sklearn.preprocessing import MinMaxScaler\n"
   ]
  },
  {
   "cell_type": "markdown",
   "metadata": {},
   "source": [
    "# Print data without Normalize "
   ]
  },
  {
   "cell_type": "code",
   "execution_count": 2,
   "metadata": {},
   "outputs": [
    {
     "name": "stderr",
     "output_type": "stream",
     "text": [
      "/anaconda3/envs/py3/lib/python3.7/site-packages/pandas/core/series.py:4141: FutureWarning: from_csv is deprecated. Please use read_csv(...) instead. Note that some of the default arguments are different, so please refer to the documentation for from_csv when changing your function calls\n",
      "  infer_datetime_format=infer_datetime_format)\n"
     ]
    }
   ],
   "source": [
    "data = Series.from_csv('daily-min-temperatures.csv', header=0)"
   ]
  },
  {
   "cell_type": "code",
   "execution_count": 3,
   "metadata": {},
   "outputs": [
    {
     "data": {
      "text/plain": [
       "Date\n",
       "1981-01-01    20.7\n",
       "1981-01-02    17.9\n",
       "1981-01-03    18.8\n",
       "1981-01-04    14.6\n",
       "1981-01-05    15.8\n",
       "1981-01-06    15.8\n",
       "1981-01-07    15.8\n",
       "1981-01-08    17.4\n",
       "1981-01-09    21.8\n",
       "1981-01-10    20.0\n",
       "1981-01-11    16.2\n",
       "1981-01-12    13.3\n",
       "1981-01-13    16.7\n",
       "1981-01-14    21.5\n",
       "1981-01-15    25.0\n",
       "1981-01-16    20.7\n",
       "1981-01-17    20.6\n",
       "1981-01-18    24.8\n",
       "1981-01-19    17.7\n",
       "1981-01-20    15.5\n",
       "1981-01-21    18.2\n",
       "1981-01-22    12.1\n",
       "1981-01-23    14.4\n",
       "1981-01-24    16.0\n",
       "1981-01-25    16.5\n",
       "1981-01-26    18.7\n",
       "1981-01-27    19.4\n",
       "1981-01-28    17.2\n",
       "1981-01-29    15.5\n",
       "1981-01-30    15.1\n",
       "              ... \n",
       "1990-12-02    13.2\n",
       "1990-12-03    16.2\n",
       "1990-12-04    17.3\n",
       "1990-12-05    20.5\n",
       "1990-12-06    20.2\n",
       "1990-12-07    19.4\n",
       "1990-12-08    15.5\n",
       "1990-12-09    14.1\n",
       "1990-12-10    11.0\n",
       "1990-12-11    11.1\n",
       "1990-12-12    14.0\n",
       "1990-12-13    11.4\n",
       "1990-12-14    12.5\n",
       "1990-12-15    13.4\n",
       "1990-12-16    13.6\n",
       "1990-12-17    13.9\n",
       "1990-12-18    17.2\n",
       "1990-12-19    14.7\n",
       "1990-12-20    15.4\n",
       "1990-12-21    13.1\n",
       "1990-12-22    13.2\n",
       "1990-12-23    13.9\n",
       "1990-12-24    10.0\n",
       "1990-12-25    12.9\n",
       "1990-12-26    14.6\n",
       "1990-12-27    14.0\n",
       "1990-12-28    13.6\n",
       "1990-12-29    13.5\n",
       "1990-12-30    15.7\n",
       "1990-12-31    13.0\n",
       "Name: Temp, Length: 3650, dtype: float64"
      ]
     },
     "execution_count": 3,
     "metadata": {},
     "output_type": "execute_result"
    }
   ],
   "source": [
    "data"
   ]
  },
  {
   "cell_type": "code",
   "execution_count": 4,
   "metadata": {},
   "outputs": [
    {
     "data": {
      "image/png": "[encoded data removed]",
      "text/plain": [
       "<Figure size 432x288 with 1 Axes>"
      ]
     },
     "metadata": {
      "needs_background": "light"
     },
     "output_type": "display_data"
    }
   ],
   "source": [
    "data.hist()\n",
    "pyplot.show()"
   ]
  },
  {
   "cell_type": "markdown",
   "metadata": {},
   "source": [
    "# Normalize data manually"
   ]
  },
  {
   "cell_type": "code",
   "execution_count": 8,
   "metadata": {},
   "outputs": [
    {
     "name": "stdout",
     "output_type": "stream",
     "text": [
      "26.3 0.0\n"
     ]
    }
   ],
   "source": [
    "values = data.values\n",
    "maxValue = values.max()\n",
    "minValue = values.min()\n",
    "print(maxValue,minValue)"
   ]
  },
  {
   "cell_type": "code",
   "execution_count": 10,
   "metadata": {},
   "outputs": [
    {
     "data": {
      "text/plain": [
       "array([0.78707224, 0.68060837, 0.7148289 , ..., 0.51330798, 0.59695817,\n",
       "       0.49429658])"
      ]
     },
     "execution_count": 10,
     "metadata": {},
     "output_type": "execute_result"
    }
   ],
   "source": [
    "normalize = (values - minValue)/(maxValue-minValue)\n",
    "normalize"
   ]
  },
  {
   "cell_type": "code",
   "execution_count": 11,
   "metadata": {},
   "outputs": [
    {
     "data": {
      "image/png": "[encoded data removed]",
      "text/plain": [
       "<Figure size 432x288 with 1 Axes>"
      ]
     },
     "metadata": {
      "needs_background": "light"
     },
     "output_type": "display_data"
    }
   ],
   "source": [
    "normalizeOne = pd.Series(normalize)\n",
    "normalizeOne.hist()\n",
    "pyplot.show()"
   ]
  },
  {
   "cell_type": "markdown",
   "metadata": {},
   "source": [
    "# Normalize by Scikit-Learn"
   ]
  },
  {
   "cell_type": "code",
   "execution_count": 30,
   "metadata": {},
   "outputs": [
    {
     "data": {
      "image/png": "[encoded data removed]",
      "text/plain": [
       "<Figure size 432x288 with 1 Axes>"
      ]
     },
     "metadata": {
      "needs_background": "light"
     },
     "output_type": "display_data"
    }
   ],
   "source": [
    "valuesReshape = values.reshape((len(values), 1))\n",
    "scalar = MinMaxScaler(feature_range=(0, 1))\n",
    "scalar = scalar.fit(valuesReshape)\n",
    "normalizeTwo = scalar.transform(valuesReshape)\n",
    "normalizeTwo = pd.Series(normalizeTwo[:,0])\n",
    "normalizeTwo.hist()\n",
    "pyplot.show()\n"
   ]
  },
  {
   "cell_type": "code",
   "execution_count": null,
   "metadata": {},
   "outputs": [],
   "source": []
  }
 ],
 "metadata": {
  "kernelspec": {
   "display_name": "Python 3",
   "language": "python",
   "name": "python3"
  },
  "language_info": {
   "codemirror_mode": {
    "name": "ipython",
    "version": 3
   },
   "file_extension": ".py",
   "mimetype": "text/x-python",
   "name": "python",
   "nbconvert_exporter": "python",
   "pygments_lexer": "ipython3",
   "version": "3.7.3"
  }
 },
 "nbformat": 4,
 "nbformat_minor": 2
}
