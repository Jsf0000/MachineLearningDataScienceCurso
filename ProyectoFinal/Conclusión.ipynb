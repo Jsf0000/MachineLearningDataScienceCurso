{
 "cells": [
  {
   "cell_type": "markdown",
   "metadata": {},
   "source": [
    "# Forma de visualizar el proyecto"
   ]
  },
  {
   "cell_type": "markdown",
   "metadata": {},
   "source": [
    "### El proyecto consta de varios archivos, para visualizar el flujo correcto del  proyecto de data science se debe observar los archivos con el siguiente orden:\n",
    "#### En la siguiente lista explicamos de forma breve el contenido de cada archivo, sin embargo se recomienda observar cada archivo de forma detallada para entender mejor el proyecto."
   ]
  },
  {
   "cell_type": "markdown",
   "metadata": {},
   "source": [
    "## ADA.ipynb"
   ]
  },
  {
   "cell_type": "markdown",
   "metadata": {},
   "source": [
    "Este archivo contiene el pre procesado y análisis de las diferentes columnas explica de forma detallada \n",
    "cuales fueron los atributos que se escogieron de acuerdo a análisis con gráficas y arboles de desicion."
   ]
  },
  {
   "cell_type": "markdown",
   "metadata": {},
   "source": [
    "## Redes Neuronales.ipynb"
   ]
  },
  {
   "cell_type": "markdown",
   "metadata": {},
   "source": [
    "En el caso de las redes neuronales de acorde a una investigación preliminar, observamos que debido a que nuestro \n",
    "data set es de variables muy categoricas, los algoritmos de clasificación que requieren la utilización de parámetros con pesos no son tan efectivos \n",
    "en datos categoricos, sin embargo se prueba varias redes neuronales, destacando las mejores pruebas."
   ]
  },
  {
   "cell_type": "markdown",
   "metadata": {},
   "source": [
    "## Arboles de desición y Random Forest.ipynb"
   ]
  },
  {
   "cell_type": "markdown",
   "metadata": {},
   "source": [
    "En este caso se utiliza las variables escogidas por medio del ADA, para realizar pruebas con arboles de desición y random forest,\n",
    "se muestra todo el proceso de selección de los mejores atributos"
   ]
  },
  {
   "cell_type": "markdown",
   "metadata": {},
   "source": [
    "## MLPFCatBoost.ipynb"
   ]
  },
  {
   "cell_type": "markdown",
   "metadata": {},
   "source": [
    "Un uno de nuestros labores de investigaciòn para el tratamiento de dataset con gran cantidad de \n",
    "variables o columnas categoricas, encontramos la utilización de algoritmos de ensamble muy utilizados para \n",
    "variables categoricas, dentro de estos algoritmos se encuentra catboots el cual es una herramienta de gran\n",
    "poder para dataset de variables categoricas"
   ]
  },
  {
   "cell_type": "code",
   "execution_count": 6,
   "metadata": {},
   "outputs": [],
   "source": [
    "# Conclusión"
   ]
  },
  {
   "cell_type": "code",
   "execution_count": null,
   "metadata": {},
   "outputs": [],
   "source": []
  }
 ],
 "metadata": {
  "kernelspec": {
   "display_name": "Python 2",
   "language": "python",
   "name": "python2"
  },
  "language_info": {
   "codemirror_mode": {
    "name": "ipython",
    "version": 2
   },
   "file_extension": ".py",
   "mimetype": "text/x-python",
   "name": "python",
   "nbconvert_exporter": "python",
   "pygments_lexer": "ipython2",
   "version": "2.7.15"
  }
 },
 "nbformat": 4,
 "nbformat_minor": 2
}
