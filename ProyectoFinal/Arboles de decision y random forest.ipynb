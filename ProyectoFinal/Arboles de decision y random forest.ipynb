{
 "cells": [
  {
   "cell_type": "markdown",
   "metadata": {},
   "source": [
    "# Portada\n",
    "\n",
    "## Estudiantes:\n",
    "\n",
    "    Jason Solano \n",
    "\n",
    "    Percy herrara\n",
    "## Curso\n",
    "    \n",
    "    Machine Learning\n",
    " \n",
    "## Trabajo\n",
    "    Projecto Final "
   ]
  },
  {
   "cell_type": "markdown",
   "metadata": {},
   "source": [
    "# Librerías utilizadas"
   ]
  },
  {
   "cell_type": "code",
   "execution_count": 18,
   "metadata": {},
   "outputs": [],
   "source": [
    "import pandas as pd\n",
    "import matplotlib.pyplot as plt\n",
    "from sklearn.model_selection import train_test_split\n",
    "from sklearn.tree import DecisionTreeClassifier\n",
    "from sklearn.model_selection import cross_val_score\n",
    "from sklearn.model_selection import ShuffleSplit\n",
    "from sklearn.ensemble import RandomForestClassifier"
   ]
  },
  {
   "cell_type": "markdown",
   "metadata": {},
   "source": [
    "## Se cargan los datos, que han sido escogidos por medio del jupyter notebook ADA"
   ]
  },
  {
   "cell_type": "code",
   "execution_count": 4,
   "metadata": {},
   "outputs": [],
   "source": [
    "df1 = pd.read_csv('DatosEscogidos.csv',index_col=0)"
   ]
  },
  {
   "cell_type": "code",
   "execution_count": 5,
   "metadata": {},
   "outputs": [
    {
     "data": {
      "text/html": [
       "<div>\n",
       "<style scoped>\n",
       "    .dataframe tbody tr th:only-of-type {\n",
       "        vertical-align: middle;\n",
       "    }\n",
       "\n",
       "    .dataframe tbody tr th {\n",
       "        vertical-align: top;\n",
       "    }\n",
       "\n",
       "    .dataframe thead th {\n",
       "        text-align: right;\n",
       "    }\n",
       "</style>\n",
       "<table border=\"1\" class=\"dataframe\">\n",
       "  <thead>\n",
       "    <tr style=\"text-align: right;\">\n",
       "      <th></th>\n",
       "      <th>account_payment_method</th>\n",
       "      <th>approval_amount</th>\n",
       "      <th>scheduled_payment_amt</th>\n",
       "      <th>days_past_due</th>\n",
       "      <th>past_due_amt</th>\n",
       "      <th>age</th>\n",
       "      <th>zip_code</th>\n",
       "      <th>city</th>\n",
       "      <th>sms_contacted_ts</th>\n",
       "      <th>state</th>\n",
       "      <th>years_at_current_residence</th>\n",
       "      <th>months_at_current_residence</th>\n",
       "      <th>source</th>\n",
       "      <th>email_contacted_ts</th>\n",
       "      <th>payment_frequency</th>\n",
       "      <th>number_of_payments</th>\n",
       "      <th>redeem_ts</th>\n",
       "    </tr>\n",
       "  </thead>\n",
       "  <tbody>\n",
       "    <tr>\n",
       "      <th>0</th>\n",
       "      <td>2.0</td>\n",
       "      <td>250.0</td>\n",
       "      <td>18.84</td>\n",
       "      <td>0</td>\n",
       "      <td>0.0</td>\n",
       "      <td>31.0</td>\n",
       "      <td>80012</td>\n",
       "      <td>73.0</td>\n",
       "      <td>1.0</td>\n",
       "      <td>5.0</td>\n",
       "      <td>2</td>\n",
       "      <td>1</td>\n",
       "      <td>2.0</td>\n",
       "      <td>0.0</td>\n",
       "      <td>4.0</td>\n",
       "      <td>52</td>\n",
       "      <td>1.0</td>\n",
       "    </tr>\n",
       "    <tr>\n",
       "      <th>1</th>\n",
       "      <td>2.0</td>\n",
       "      <td>80.0</td>\n",
       "      <td>32.88</td>\n",
       "      <td>0</td>\n",
       "      <td>0.0</td>\n",
       "      <td>21.0</td>\n",
       "      <td>76086</td>\n",
       "      <td>1590.0</td>\n",
       "      <td>0.0</td>\n",
       "      <td>41.0</td>\n",
       "      <td>1</td>\n",
       "      <td>0</td>\n",
       "      <td>0.0</td>\n",
       "      <td>1.0</td>\n",
       "      <td>0.0</td>\n",
       "      <td>26</td>\n",
       "      <td>1.0</td>\n",
       "    </tr>\n",
       "    <tr>\n",
       "      <th>2</th>\n",
       "      <td>2.0</td>\n",
       "      <td>956.0</td>\n",
       "      <td>423.50</td>\n",
       "      <td>0</td>\n",
       "      <td>0.0</td>\n",
       "      <td>43.0</td>\n",
       "      <td>99344</td>\n",
       "      <td>1086.0</td>\n",
       "      <td>1.0</td>\n",
       "      <td>45.0</td>\n",
       "      <td>1</td>\n",
       "      <td>0</td>\n",
       "      <td>2.0</td>\n",
       "      <td>1.0</td>\n",
       "      <td>1.0</td>\n",
       "      <td>12</td>\n",
       "      <td>1.0</td>\n",
       "    </tr>\n",
       "    <tr>\n",
       "      <th>3</th>\n",
       "      <td>2.0</td>\n",
       "      <td>9.0</td>\n",
       "      <td>18.15</td>\n",
       "      <td>0</td>\n",
       "      <td>0.0</td>\n",
       "      <td>33.0</td>\n",
       "      <td>92251</td>\n",
       "      <td>684.0</td>\n",
       "      <td>1.0</td>\n",
       "      <td>4.0</td>\n",
       "      <td>0</td>\n",
       "      <td>11</td>\n",
       "      <td>2.0</td>\n",
       "      <td>0.0</td>\n",
       "      <td>0.0</td>\n",
       "      <td>26</td>\n",
       "      <td>1.0</td>\n",
       "    </tr>\n",
       "    <tr>\n",
       "      <th>4</th>\n",
       "      <td>2.0</td>\n",
       "      <td>250.0</td>\n",
       "      <td>87.73</td>\n",
       "      <td>0</td>\n",
       "      <td>0.0</td>\n",
       "      <td>38.0</td>\n",
       "      <td>44105</td>\n",
       "      <td>264.0</td>\n",
       "      <td>1.0</td>\n",
       "      <td>33.0</td>\n",
       "      <td>6</td>\n",
       "      <td>0</td>\n",
       "      <td>2.0</td>\n",
       "      <td>1.0</td>\n",
       "      <td>0.0</td>\n",
       "      <td>26</td>\n",
       "      <td>1.0</td>\n",
       "    </tr>\n",
       "  </tbody>\n",
       "</table>\n",
       "</div>"
      ],
      "text/plain": [
       "   account_payment_method  approval_amount  scheduled_payment_amt  \\\n",
       "0                     2.0            250.0                  18.84   \n",
       "1                     2.0             80.0                  32.88   \n",
       "2                     2.0            956.0                 423.50   \n",
       "3                     2.0              9.0                  18.15   \n",
       "4                     2.0            250.0                  87.73   \n",
       "\n",
       "   days_past_due  past_due_amt   age  zip_code    city  sms_contacted_ts  \\\n",
       "0              0           0.0  31.0     80012    73.0               1.0   \n",
       "1              0           0.0  21.0     76086  1590.0               0.0   \n",
       "2              0           0.0  43.0     99344  1086.0               1.0   \n",
       "3              0           0.0  33.0     92251   684.0               1.0   \n",
       "4              0           0.0  38.0     44105   264.0               1.0   \n",
       "\n",
       "   state  years_at_current_residence  months_at_current_residence  source  \\\n",
       "0    5.0                           2                            1     2.0   \n",
       "1   41.0                           1                            0     0.0   \n",
       "2   45.0                           1                            0     2.0   \n",
       "3    4.0                           0                           11     2.0   \n",
       "4   33.0                           6                            0     2.0   \n",
       "\n",
       "   email_contacted_ts  payment_frequency  number_of_payments  redeem_ts  \n",
       "0                 0.0                4.0                  52        1.0  \n",
       "1                 1.0                0.0                  26        1.0  \n",
       "2                 1.0                1.0                  12        1.0  \n",
       "3                 0.0                0.0                  26        1.0  \n",
       "4                 1.0                0.0                  26        1.0  "
      ]
     },
     "execution_count": 5,
     "metadata": {},
     "output_type": "execute_result"
    }
   ],
   "source": [
    "df1.head()"
   ]
  },
  {
   "cell_type": "markdown",
   "metadata": {},
   "source": [
    "### Dividemos los datos de entrenamiento y label"
   ]
  },
  {
   "cell_type": "code",
   "execution_count": 8,
   "metadata": {},
   "outputs": [],
   "source": [
    "features = df1.drop('redeem_ts',1)\n",
    "labels = df1['redeem_ts']"
   ]
  },
  {
   "cell_type": "code",
   "execution_count": 10,
   "metadata": {},
   "outputs": [],
   "source": [
    "X_train, X_test, y_train, y_test = train_test_split(features,labels,test_size=0.20,random_state=13)"
   ]
  },
  {
   "cell_type": "markdown",
   "metadata": {},
   "source": [
    "# Prueba con los algoritmos Desicion Tree y Random Forest"
   ]
  },
  {
   "cell_type": "markdown",
   "metadata": {},
   "source": [
    "# Pruebas con Desicion Tree"
   ]
  },
  {
   "cell_type": "markdown",
   "metadata": {},
   "source": [
    "### Prueba con el hyper-parametro max_depth"
   ]
  },
  {
   "cell_type": "code",
   "execution_count": 15,
   "metadata": {},
   "outputs": [
    {
     "data": {
      "text/plain": [
       "<matplotlib.legend.Legend at 0x1a10a31dd0>"
      ]
     },
     "execution_count": 15,
     "metadata": {},
     "output_type": "execute_result"
    },
    {
     "data": {
      "image/png": "[encoded data removed]",
      "text/plain": [
       "<matplotlib.figure.Figure at 0x1a107d3790>"
      ]
     },
     "metadata": {
      "needs_background": "light"
     },
     "output_type": "display_data"
    }
   ],
   "source": [
    "maxDepth = [3,4,5,6,7,8,9,10]\n",
    "Acurracy = list()\n",
    "for atri in maxDepth:\n",
    "    clf_entropy = DecisionTreeClassifier(criterion = \"entropy\", random_state = 100,\n",
    "    max_depth=atri, min_samples_leaf=5)\n",
    "    cv = ShuffleSplit(n_splits=5, test_size=0.2, random_state=0)\n",
    "    scores = cross_val_score(clf_entropy,features,labels, cv=cv)\n",
    "    Acurracy.append(scores.mean())\n",
    "plt.plot(maxDepth, Acurracy, label=\"training accuracy\")\n",
    "plt.ylabel(\"Accuracy\")\n",
    "plt.xlabel(\"max_depth\")\n",
    "plt.legend()"
   ]
  },
  {
   "cell_type": "markdown",
   "metadata": {},
   "source": [
    "### Para este caso se escoge el hyper-parametro mzx_depth = 7 "
   ]
  },
  {
   "cell_type": "markdown",
   "metadata": {},
   "source": [
    "### Prueba con el hyper-parametro max_depth"
   ]
  },
  {
   "cell_type": "code",
   "execution_count": 17,
   "metadata": {},
   "outputs": [
    {
     "data": {
      "text/plain": [
       "<matplotlib.legend.Legend at 0x1a1083e3d0>"
      ]
     },
     "execution_count": 17,
     "metadata": {},
     "output_type": "execute_result"
    },
    {
     "data": {
      "image/png": "[encoded data removed]",
      "text/plain": [
       "<matplotlib.figure.Figure at 0x1a1083eed0>"
      ]
     },
     "metadata": {
      "needs_background": "light"
     },
     "output_type": "display_data"
    }
   ],
   "source": [
    "min_samples_leaf = [4,5,6,7,8,9,10,11,12,13]\n",
    "Acurracy = list()\n",
    "for atri in min_samples_leaf:\n",
    "    # se construye el modelo de clasificacion\n",
    "    clf_entropy = DecisionTreeClassifier(criterion = \"entropy\", random_state = 100,\n",
    "    max_depth=7, min_samples_leaf=atri)\n",
    "    cv = ShuffleSplit(n_splits=5, test_size=0.2, random_state=0)\n",
    "    scores = cross_val_score(clf_entropy,features,labels, cv=cv)\n",
    "    Acurracy.append(scores.mean())\n",
    "plt.plot(min_samples_leaf, Acurracy, label=\"training accuracy\")\n",
    "plt.ylabel(\"Accuracy\")\n",
    "plt.xlabel(\"min_sample_leaf\")\n",
    "plt.legend()"
   ]
  },
  {
   "cell_type": "markdown",
   "metadata": {},
   "source": [
    "### Para este caso se escoge el hyper-parametro min_sample_leaf = 10"
   ]
  },
  {
   "cell_type": "markdown",
   "metadata": {},
   "source": [
    "# Conclusión\n",
    "En el caso de desicion Tree el mejor accuracy segun cross-validation es 0.74 con los hyper-parametros \n",
    "\n",
    "max_depth = 7\n",
    "\n",
    "min_sample_leaf = 10\n",
    "\n",
    "Accuracy = 0.74"
   ]
  },
  {
   "cell_type": "markdown",
   "metadata": {},
   "source": [
    "# Pruebas con Random Forest "
   ]
  },
  {
   "cell_type": "markdown",
   "metadata": {},
   "source": [
    "### Prueba con el hyper-parametro n_estimator"
   ]
  },
  {
   "cell_type": "code",
   "execution_count": 19,
   "metadata": {},
   "outputs": [
    {
     "data": {
      "text/plain": [
       "<matplotlib.legend.Legend at 0x1a1d983390>"
      ]
     },
     "execution_count": 19,
     "metadata": {},
     "output_type": "execute_result"
    },
    {
     "data": {
      "image/png": "[encoded data removed]",
      "text/plain": [
       "<matplotlib.figure.Figure at 0x1a1dc1cb90>"
      ]
     },
     "metadata": {
      "needs_background": "light"
     },
     "output_type": "display_data"
    }
   ],
   "source": [
    "listAttrib = [900,1000,1100,1200,1300,1400]\n",
    "Acurracy = list()\n",
    "for atri in listAttrib:\n",
    "    # se construye el modelo de clasificacion\n",
    "    RandomForestModel = RandomForestClassifier(min_samples_leaf=5,min_samples_split=20,n_estimators=atri, max_depth= 5, random_state=10)\n",
    "    cv = ShuffleSplit(n_splits=5, test_size=0.2, random_state=0)\n",
    "    scores = cross_val_score(RandomForestModel,features,labels, cv=cv)\n",
    "    Acurracy.append(scores.mean())\n",
    "plt.plot(listAttrib, Acurracy, label=\"training accuracy\")\n",
    "plt.ylabel(\"Accuracy\")\n",
    "plt.xlabel(\"n_estimator\")\n",
    "plt.legend()"
   ]
  },
  {
   "cell_type": "markdown",
   "metadata": {},
   "source": [
    "### Para el caso del hyper-parametro n_estimator se escoge el valor 1200"
   ]
  },
  {
   "cell_type": "markdown",
   "metadata": {},
   "source": [
    "### Prueba con el hyper-parametro max_depth"
   ]
  },
  {
   "cell_type": "code",
   "execution_count": 20,
   "metadata": {},
   "outputs": [
    {
     "data": {
      "text/plain": [
       "<matplotlib.legend.Legend at 0x1a1df24990>"
      ]
     },
     "execution_count": 20,
     "metadata": {},
     "output_type": "execute_result"
    },
    {
     "data": {
      "image/png": "[encoded data removed]",
      "text/plain": [
       "<matplotlib.figure.Figure at 0x1a108e02d0>"
      ]
     },
     "metadata": {
      "needs_background": "light"
     },
     "output_type": "display_data"
    }
   ],
   "source": [
    "listAttrib = [6,7,8,9,10,11,12,13,14,15,16,17,18,19,20]\n",
    "Acurracy = list()\n",
    "for atri in listAttrib:\n",
    "    # se construye el modelo de clasificacion\n",
    "    RandomForestModel = RandomForestClassifier(min_samples_leaf=5,min_samples_split=20,n_estimators=1200, max_depth= atri, random_state=10)\n",
    "    cv = ShuffleSplit(n_splits=5, test_size=0.2, random_state=0)\n",
    "    scores = cross_val_score(RandomForestModel,features,labels, cv=cv)\n",
    "    Acurracy.append(scores.mean())\n",
    "plt.plot(listAttrib, Acurracy, label=\"training accuracy\")\n",
    "plt.ylabel(\"Accuracy\")\n",
    "plt.xlabel(\"max_depth\")\n",
    "plt.legend()"
   ]
  },
  {
   "cell_type": "markdown",
   "metadata": {},
   "source": [
    "### Para el caso del hyper-parametro max_depth se escoge el valor 17"
   ]
  },
  {
   "cell_type": "markdown",
   "metadata": {},
   "source": [
    "### Prueba con el hyper-parametro min_samples_split"
   ]
  },
  {
   "cell_type": "code",
   "execution_count": 21,
   "metadata": {},
   "outputs": [
    {
     "data": {
      "text/plain": [
       "<matplotlib.legend.Legend at 0x1a1dd90950>"
      ]
     },
     "execution_count": 21,
     "metadata": {},
     "output_type": "execute_result"
    },
    {
     "data": {
      "image/png": "[encoded data removed]",
      "text/plain": [
       "<matplotlib.figure.Figure at 0x1a1dae3b10>"
      ]
     },
     "metadata": {
      "needs_background": "light"
     },
     "output_type": "display_data"
    }
   ],
   "source": [
    "listAttrib = [10,20,30,40]\n",
    "Acurracy = list()\n",
    "for atri in listAttrib:\n",
    "    # se construye el modelo de clasificacion\n",
    "    RandomForestModel = RandomForestClassifier(min_samples_leaf=5,min_samples_split=atri,n_estimators=1200, max_depth=17, random_state=10)\n",
    "    cv = ShuffleSplit(n_splits=5, test_size=0.2, random_state=0)\n",
    "    scores = cross_val_score(RandomForestModel,features,labels, cv=cv)\n",
    "    Acurracy.append(scores.mean())\n",
    "plt.plot(listAttrib, Acurracy, label=\"training accuracy\")\n",
    "plt.ylabel(\"Accuracy\")\n",
    "plt.xlabel(\"min_samples_split\")\n",
    "plt.legend()"
   ]
  },
  {
   "cell_type": "markdown",
   "metadata": {},
   "source": [
    "### Para el caso del hyper-parametro min_samples_split se escoge el valor 20"
   ]
  },
  {
   "cell_type": "markdown",
   "metadata": {},
   "source": [
    "### Prueba con el hyper-parametro min_samples_split"
   ]
  },
  {
   "cell_type": "code",
   "execution_count": 22,
   "metadata": {},
   "outputs": [
    {
     "data": {
      "text/plain": [
       "<matplotlib.legend.Legend at 0x1a1dc370d0>"
      ]
     },
     "execution_count": 22,
     "metadata": {},
     "output_type": "execute_result"
    },
    {
     "data": {
      "image/png": "[encoded data removed]",
      "text/plain": [
       "<matplotlib.figure.Figure at 0x1a1dc37190>"
      ]
     },
     "metadata": {
      "needs_background": "light"
     },
     "output_type": "display_data"
    }
   ],
   "source": [
    "listAttrib = [4,5,6,7]\n",
    "Acurracy = list()\n",
    "for atri in listAttrib:\n",
    "    # se construye el modelo de clasificacion\n",
    "    RandomForestModel = RandomForestClassifier(min_samples_leaf=atri,min_samples_split=20,n_estimators=1200, max_depth=17, random_state=10)\n",
    "    cv = ShuffleSplit(n_splits=5, test_size=0.2, random_state=0)\n",
    "    scores = cross_val_score(RandomForestModel,features,labels, cv=cv)\n",
    "    Acurracy.append(scores.mean())\n",
    "plt.plot(listAttrib, Acurracy, label=\"training accuracy\")\n",
    "plt.ylabel(\"Accuracy\")\n",
    "plt.xlabel(\"min_samples_leaf\")\n",
    "plt.legend()"
   ]
  },
  {
   "cell_type": "markdown",
   "metadata": {},
   "source": [
    "### Para el caso del hyper-parametro min_samples_leaf se escoge el valor 5"
   ]
  },
  {
   "cell_type": "markdown",
   "metadata": {},
   "source": [
    "# Conclusión\n",
    "En el caso del Random Forest el mejor accuracy segun cross-validation es 0.7540 con los hyper-parametros \n",
    "\n",
    "n_estimator = 1200\n",
    "\n",
    "max_depth = 17\n",
    "\n",
    "min_sample_leaf = 20\n",
    "\n",
    "min_samples_leaf = 5\n",
    "\n",
    "Accuracy = 0.7540"
   ]
  },
  {
   "cell_type": "markdown",
   "metadata": {},
   "source": [
    "# Conclusión General"
   ]
  },
  {
   "cell_type": "markdown",
   "metadata": {},
   "source": [
    "Visualizando los dos modelos, el desicion tree dura mucho menos entrenando y aplicando el cross-validation\n",
    ", sin embargo su accuracy es 0.74. En cambio el random forest tiene un accuracy de 0.7540 es decir un\n",
    "incremento de 0.0140 lo cual permite tener un modelo mas rubusto claro con más consumo computacional. \n",
    "Sin embargo el mejor modelo es el random forest"
   ]
  },
  {
   "cell_type": "code",
   "execution_count": null,
   "metadata": {},
   "outputs": [],
   "source": []
  }
 ],
 "metadata": {
  "kernelspec": {
   "display_name": "Python 2",
   "language": "python",
   "name": "python2"
  },
  "language_info": {
   "codemirror_mode": {
    "name": "ipython",
    "version": 2
   },
   "file_extension": ".py",
   "mimetype": "text/x-python",
   "name": "python",
   "nbconvert_exporter": "python",
   "pygments_lexer": "ipython2",
   "version": "2.7.15"
  }
 },
 "nbformat": 4,
 "nbformat_minor": 2
}
